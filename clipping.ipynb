{
 "cells": [
  {
   "cell_type": "code",
   "execution_count": 42,
   "metadata": {
    "collapsed": false
   },
   "outputs": [],
   "source": [
    "# Import modules\n",
    "import numpy as np\n",
    "import gdal\n",
    "from osgeo import gdal, ogr, gdalnumeric, osr\n",
    "from PIL import Image\n",
    "import matplotlib.pyplot as plt\n",
    "%matplotlib inline\n",
    "import warnings \n",
    "warnings.filterwarnings('ignore')\n",
    "import os, sys\n",
    "gdal.UseExceptions()"
   ]
  },
  {
   "cell_type": "code",
   "execution_count": 43,
   "metadata": {
    "collapsed": true
   },
   "outputs": [],
   "source": [
    "# Define raster import function\n",
    "def import_raster(filename):\n",
    "    #Open file\n",
    "    f = gdal.Open(filename)\n",
    "    md = {'cols':f.RasterXSize}\n",
    "    md.update({'rows':f.RasterYSize})\n",
    "    md.update({'n_bands':f.RasterCount})\n",
    "    md.update({'proj':f.GetGeoTransform()})\n",
    "    md.update({'xMin':md['proj'][0]})\n",
    "    md.update({'yMax':md['proj'][3]})\n",
    "    md.update({'xMax':md['xMin'] + md['cols']/md['proj'][1]})\n",
    "    md.update({'yMin':md['yMax'] + md['rows']/md['proj'][5]})\n",
    "    md.update({'extent':(md['xMin'],md['xMax'],md['yMin'],md['yMax'])})\n",
    "    md.update({'pixelWidth':md['proj'][1]})\n",
    "    md.update({'pixelHeight':md['proj'][5]})\n",
    "    \n",
    "    raster = f.GetRasterBand(1)\n",
    "    md.update({'noDataVal':raster.GetNoDataValue()})\n",
    "    md.update({'scaleFactor':raster.GetScale()})\n",
    "\n",
    "    return(raster,md)"
   ]
  },
  {
   "cell_type": "code",
   "execution_count": 44,
   "metadata": {
    "collapsed": false
   },
   "outputs": [],
   "source": [
    "# Import initial rasters\n",
    "lidar_f = '/home/annie/Documents/NEON/data/RSDI-2017/NEONdata/SJER/NEON_D17_SJER_DP3_256000_4106000_CHM.tif'\n",
    "hs_f = '/home/annie/Documents/NEON/data/RSDI-2017/NEONdata/SJER/NEON_D17_SJER_DP3_256000_4106000_CHM.tif'\n",
    "\n",
    "lidar_rast,lidar_md = import_raster(lidar_f)\n",
    "hs_rast, hs_md = import_raster(hs_f)"
   ]
  },
  {
   "cell_type": "code",
   "execution_count": 45,
   "metadata": {
    "collapsed": false
   },
   "outputs": [],
   "source": [
    "# Figure out smaller raster\n",
    "lidar_size = hs_md['rows']*lidar_md['cols']\n",
    "hs_size = hs_md['rows']*lidar_md['cols']\n",
    "\n",
    "# this will be the same for the entire area, so grab smaller"
   ]
  },
  {
   "cell_type": "code",
   "execution_count": 46,
   "metadata": {
    "collapsed": false
   },
   "outputs": [
    {
     "data": {
      "text/plain": [
       "0"
      ]
     },
     "execution_count": 46,
     "metadata": {},
     "output_type": "execute_result"
    }
   ],
   "source": [
    "# this allows GDAL to throw Python Exceptions\n",
    "gdal.UseExceptions()\n",
    "\n",
    "#  get raster datasource\n",
    "#\n",
    "src_ds = gdal.Open(lidar_f)\n",
    "srcband = src_ds.GetRasterBand(1)\n",
    "\n",
    "#  create output datasource\n",
    "dst_layername = \"clipping_layer\"\n",
    "drv = ogr.GetDriverByName(\"ESRI Shapefile\")\n",
    "dst_ds = drv.CreateDataSource( dst_layername + \".shp\" )\n",
    "dst_layer = dst_ds.CreateLayer(dst_layername, srs = None )\n",
    "\n",
    "gdal.Polygonize( srcband, None, dst_layer, -1, [], callback=None )"
   ]
  },
  {
   "cell_type": "code",
   "execution_count": 61,
   "metadata": {
    "collapsed": false
   },
   "outputs": [],
   "source": [
    "# Clip raster to created shapefile\n",
    "\n",
    "# This function will convert the rasterized clipper shapefile\n",
    "# to a mask for use within GDAL.\n",
    "\n",
    "def clip_raster(shapefile_path, raster_path):\n",
    "    # Load the source data as a gdalnumeric array\n",
    "    srcArray = gdalnumeric.LoadFile(raster_path)\n",
    "\n",
    "    # Also load as a gdal image to get geotransform\n",
    "    # (world file) info\n",
    "    srcImage = gdal.Open(raster_path)\n",
    "    geoTrans = srcImage.GetGeoTransform()\n",
    "\n",
    "    # Create an OGR layer from a boundary shapefile\n",
    "    shapef = ogr.Open(shapefile_path)\n",
    "    lyr = shapef.GetLayer( os.path.split( os.path.splitext( shapefile_path )[0] )[1] )\n",
    "    poly = lyr.GetNextFeature()\n",
    "    print(lyr,poly)\n",
    "\n",
    "    # Convert the layer extent to image pixel coordinates\n",
    "    minX, maxX, minY, maxY = lidar_md['extent']\n",
    "    print(lidar_md['extent'])\n",
    "    ulX, ulY = world2Pixel(geoTrans, minX, maxY)\n",
    "    lrX, lrY = world2Pixel(geoTrans, maxX, minY)\n",
    "    print(ulX,ulY)\n",
    "\n",
    "    # Calculate the pixel size of the new image\n",
    "    pxWidth = 1\n",
    "    pxHeight = 1\n",
    "\n",
    "    clip = srcArray[:, ulY:lrY, ulX:lrX]\n",
    "\n",
    "    #\n",
    "    # EDIT: create pixel offset to pass to new image Projection info\n",
    "    #\n",
    "    xoffset =  ulX\n",
    "    yoffset =  ulY\n",
    "    print(\"Xoffset, Yoffset = ( %f, %f )\" % ( xoffset, yoffset ))\n",
    "\n",
    "    # Create a new geomatrix for the image\n",
    "    geoTrans = list(geoTrans)\n",
    "    geoTrans[0] = minX\n",
    "    geoTrans[3] = maxY\n",
    "\n",
    "    # Map points to pixels for drawing the\n",
    "    # boundary on a blank 8-bit,\n",
    "    # black and white, mask image.\n",
    "    points = []\n",
    "    pixels = []\n",
    "    geom = poly.GetGeometryRef()\n",
    "    pts = geom.GetGeometryRef(0)\n",
    "    for p in range(pts.GetPointCount()):\n",
    "      points.append((pts.GetX(p), pts.GetY(p)))\n",
    "    for p in points:\n",
    "      pixels.append(world2Pixel(geoTrans, p[0], p[1]))\n",
    "    rasterPoly = Image.new(\"L\", (pxWidth, pxHeight), 1)\n",
    "    rasterize = ImageDraw.Draw(rasterPoly)\n",
    "    rasterize.polygon(pixels, 0)\n",
    "    mask = imageToArray(rasterPoly)\n",
    "\n",
    "    # Clip the image using the mask\n",
    "    clip = gdalnumeric.choose(mask, \\\n",
    "        (clip, 0)).astype(gdalnumeric.uint8)\n",
    "\n",
    "    # This image has 3 bands so we stretch each one to make them\n",
    "    # visually brighter\n",
    "    for i in range(3):\n",
    "      clip[i,:,:] = stretch(clip[i,:,:])\n",
    "\n",
    "    # Save new tiff\n",
    "    #\n",
    "    #  EDIT: instead of SaveArray, let's break all the\n",
    "    #  SaveArray steps out more explicity so\n",
    "    #  we can overwrite the offset of the destination\n",
    "    #  raster\n",
    "    #\n",
    "    ### the old way using SaveArray\n",
    "    #\n",
    "    # gdalnumeric.SaveArray(clip, \"OUTPUT.tif\", format=\"GTiff\", prototype=raster_path)\n",
    "    #\n",
    "    ###\n",
    "    #\n",
    "    gtiffDriver = gdal.GetDriverByName( 'GTiff' )\n",
    "    if gtiffDriver is None:\n",
    "        raise ValueError(\"Can't find GeoTiff Driver\")\n",
    "    gtiffDriver.CreateCopy( \"OUTPUT.tif\",\n",
    "        OpenArray( clip, prototype_ds=raster_path, xoff=xoffset, yoff=yoffset )\n",
    "    )\n",
    "\n",
    "    gdal.ErrorReset()"
   ]
  },
  {
   "cell_type": "code",
   "execution_count": 62,
   "metadata": {
    "collapsed": false
   },
   "outputs": [
    {
     "name": "stdout",
     "output_type": "stream",
     "text": [
      "<osgeo.ogr.Layer; proxy of <Swig Object of type 'OGRLayerShadow *' at 0x7f684185f780> > None\n",
      "(256000.0, 257000.0, 4106000.0, 4107000.0)\n",
      "0 0\n"
     ]
    },
    {
     "ename": "IndexError",
     "evalue": "too many indices for array",
     "output_type": "error",
     "traceback": [
      "\u001b[0;31m---------------------------------------------------------------------------\u001b[0m",
      "\u001b[0;31mIndexError\u001b[0m                                Traceback (most recent call last)",
      "\u001b[0;32m<ipython-input-62-45b89251fffd>\u001b[0m in \u001b[0;36m<module>\u001b[0;34m()\u001b[0m\n\u001b[0;32m----> 1\u001b[0;31m \u001b[0mtest\u001b[0m \u001b[0;34m=\u001b[0m \u001b[0mclip_raster\u001b[0m\u001b[0;34m(\u001b[0m\u001b[0;34m'/home/annie/Documents/NEON/Day5/group_project/clipping_layer.shp'\u001b[0m\u001b[0;34m,\u001b[0m                  \u001b[0mhs_f\u001b[0m\u001b[0;34m)\u001b[0m\u001b[0;34m\u001b[0m\u001b[0m\n\u001b[0m",
      "\u001b[0;32m<ipython-input-61-0bd44ae34023>\u001b[0m in \u001b[0;36mclip_raster\u001b[0;34m(shapefile_path, raster_path)\u001b[0m\n\u001b[1;32m     30\u001b[0m     \u001b[0mpxHeight\u001b[0m \u001b[0;34m=\u001b[0m \u001b[0mint\u001b[0m\u001b[0;34m(\u001b[0m\u001b[0mlrY\u001b[0m \u001b[0;34m-\u001b[0m \u001b[0mulY\u001b[0m\u001b[0;34m)\u001b[0m\u001b[0;34m\u001b[0m\u001b[0m\n\u001b[1;32m     31\u001b[0m \u001b[0;34m\u001b[0m\u001b[0m\n\u001b[0;32m---> 32\u001b[0;31m     \u001b[0mclip\u001b[0m \u001b[0;34m=\u001b[0m \u001b[0msrcArray\u001b[0m\u001b[0;34m[\u001b[0m\u001b[0;34m:\u001b[0m\u001b[0;34m,\u001b[0m \u001b[0mulY\u001b[0m\u001b[0;34m:\u001b[0m\u001b[0mlrY\u001b[0m\u001b[0;34m,\u001b[0m \u001b[0mulX\u001b[0m\u001b[0;34m:\u001b[0m\u001b[0mlrX\u001b[0m\u001b[0;34m]\u001b[0m\u001b[0;34m\u001b[0m\u001b[0m\n\u001b[0m\u001b[1;32m     33\u001b[0m \u001b[0;34m\u001b[0m\u001b[0m\n\u001b[1;32m     34\u001b[0m     \u001b[0;31m#\u001b[0m\u001b[0;34m\u001b[0m\u001b[0;34m\u001b[0m\u001b[0m\n",
      "\u001b[0;31mIndexError\u001b[0m: too many indices for array"
     ]
    }
   ],
   "source": [
    "test = clip_raster('/home/annie/Documents/NEON/Day5/group_project/clipping_layer.shp',\\\n",
    "                  hs_f)"
   ]
  },
  {
   "cell_type": "code",
   "execution_count": 64,
   "metadata": {
    "collapsed": false
   },
   "outputs": [],
   "source": [
    "world2Pixel?"
   ]
  },
  {
   "cell_type": "code",
   "execution_count": null,
   "metadata": {
    "collapsed": true
   },
   "outputs": [],
   "source": []
  }
 ],
 "metadata": {
  "anaconda-cloud": {},
  "kernelspec": {
   "display_name": "Python [conda env:py34]",
   "language": "python",
   "name": "conda-env-py34-py"
  },
  "language_info": {
   "codemirror_mode": {
    "name": "ipython",
    "version": 3
   },
   "file_extension": ".py",
   "mimetype": "text/x-python",
   "name": "python",
   "nbconvert_exporter": "python",
   "pygments_lexer": "ipython3",
   "version": "3.4.5"
  }
 },
 "nbformat": 4,
 "nbformat_minor": 2
}
